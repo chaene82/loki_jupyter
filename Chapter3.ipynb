{
  "nbformat": 4,
  "nbformat_minor": 0,
  "metadata": {
    "colab": {
      "name": "Chapter3.ipynb",
      "version": "0.3.2",
      "provenance": [],
      "collapsed_sections": [],
      "include_colab_link": true
    },
    "kernelspec": {
      "display_name": "tf_1_0",
      "language": "python",
      "name": "tf_1_0"
    }
  },
  "cells": [
    {
      "cell_type": "markdown",
      "metadata": {
        "id": "view-in-github",
        "colab_type": "text"
      },
      "source": [
        "<a href=\"https://colab.research.google.com/github/chaene82/loki_jupyter/blob/master/Chapter3.ipynb\" target=\"_parent\"><img src=\"https://colab.research.google.com/assets/colab-badge.svg\" alt=\"Open In Colab\"/></a>"
      ]
    },
    {
      "metadata": {
        "id": "5xPrvLBCiejm",
        "colab_type": "text"
      },
      "cell_type": "markdown",
      "source": [
        "# Chapter 3"
      ]
    },
    {
      "metadata": {
        "id": "xA6eZ2pXiejm",
        "colab_type": "text"
      },
      "cell_type": "markdown",
      "source": [
        "### Our first TensorFlow graph"
      ]
    },
    {
      "metadata": {
        "id": "j8WsH4VSiejn",
        "colab_type": "code",
        "colab": {
          "base_uri": "https://localhost:8080/",
          "height": 34
        },
        "outputId": "40acd591-90ff-48c7-e797-15a78d9f43e7"
      },
      "cell_type": "code",
      "source": [
        "import tensorflow as tf \n",
        "a = tf.constant(5) \n",
        "b = tf.constant(2)\n",
        "c = tf.constant(3)\n",
        "d = tf.multiply(a,b) \n",
        "e = tf.add(c,b) \n",
        "f = tf.subtract(d,e) \n",
        "sess = tf.Session() \n",
        "outs = sess.run(f) \n",
        "sess.close() \n",
        "print(\"outs = {}\".format(outs))"
      ],
      "execution_count": 1,
      "outputs": [
        {
          "output_type": "stream",
          "text": [
            "outs = 5\n"
          ],
          "name": "stdout"
        }
      ]
    },
    {
      "metadata": {
        "id": "bEcxeIZoiejs",
        "colab_type": "text"
      },
      "cell_type": "markdown",
      "source": [
        "### Constructing and managing our graph "
      ]
    },
    {
      "metadata": {
        "id": "_BBAkwMhiejs",
        "colab_type": "code",
        "colab": {
          "base_uri": "https://localhost:8080/",
          "height": 51
        },
        "outputId": "4dcbf900-cde1-449b-fb30-704d4ef933e5"
      },
      "cell_type": "code",
      "source": [
        "import tensorflow as tf\n",
        "print(tf.get_default_graph())\n",
        "\n",
        "g = tf.Graph()\n",
        "print(g)"
      ],
      "execution_count": 2,
      "outputs": [
        {
          "output_type": "stream",
          "text": [
            "<tensorflow.python.framework.ops.Graph object at 0x7f6027f1ff50>\n",
            "<tensorflow.python.framework.ops.Graph object at 0x7f6036f647d0>\n"
          ],
          "name": "stdout"
        }
      ]
    },
    {
      "metadata": {
        "id": "a_vCKjYLiejw",
        "colab_type": "code",
        "colab": {
          "base_uri": "https://localhost:8080/",
          "height": 51
        },
        "outputId": "21cc197a-cdc6-4a37-c848-466560f00e28"
      },
      "cell_type": "code",
      "source": [
        "a = tf.constant(5) \n",
        "\n",
        "print(a.graph is g)\n",
        "print(a.graph is tf.get_default_graph())"
      ],
      "execution_count": 3,
      "outputs": [
        {
          "output_type": "stream",
          "text": [
            "False\n",
            "True\n"
          ],
          "name": "stdout"
        }
      ]
    },
    {
      "metadata": {
        "id": "hPLRCL2Qiejy",
        "colab_type": "code",
        "colab": {
          "base_uri": "https://localhost:8080/",
          "height": 68
        },
        "outputId": "9cea2a46-1820-496e-a51e-88121e1591fd"
      },
      "cell_type": "code",
      "source": [
        "g1 = tf.get_default_graph() \n",
        "g2 = tf.Graph() \n",
        "\n",
        "print(g1 is tf.get_default_graph())\n",
        "\n",
        "with g2.as_default(): \n",
        "    print(g1 is tf.get_default_graph())\n",
        "\n",
        "print(g1 is tf.get_default_graph())"
      ],
      "execution_count": 4,
      "outputs": [
        {
          "output_type": "stream",
          "text": [
            "True\n",
            "False\n",
            "True\n"
          ],
          "name": "stdout"
        }
      ]
    },
    {
      "metadata": {
        "id": "KgYkmCCZiej1",
        "colab_type": "text"
      },
      "cell_type": "markdown",
      "source": [
        "### Fetches "
      ]
    },
    {
      "metadata": {
        "id": "2CMacFCeiej1",
        "colab_type": "code",
        "colab": {
          "base_uri": "https://localhost:8080/",
          "height": 51
        },
        "outputId": "56604007-8d7d-4d93-8181-15228440595a"
      },
      "cell_type": "code",
      "source": [
        "with tf.Session() as sess:\n",
        "   fetches = [a,b,c,d,e,f]\n",
        "   outs = sess.run(fetches) \n",
        "\n",
        "print(\"outs = {}\".format(outs))\n",
        "print(type(outs[0]))"
      ],
      "execution_count": 5,
      "outputs": [
        {
          "output_type": "stream",
          "text": [
            "outs = [5, 2, 3, 10, 5, 5]\n",
            "<type 'numpy.int32'>\n"
          ],
          "name": "stdout"
        }
      ]
    },
    {
      "metadata": {
        "id": "jTzk_0Faiej4",
        "colab_type": "text"
      },
      "cell_type": "markdown",
      "source": [
        "### Nodes are operations, edges are Tensor objects  "
      ]
    },
    {
      "metadata": {
        "id": "QbU-PL4siej5",
        "colab_type": "code",
        "colab": {
          "base_uri": "https://localhost:8080/",
          "height": 34
        },
        "outputId": "21f369ae-0411-4c2b-80b9-1d5a3e3cc252"
      },
      "cell_type": "code",
      "source": [
        "c = tf.constant(4.0)\n",
        "print(c)"
      ],
      "execution_count": 6,
      "outputs": [
        {
          "output_type": "stream",
          "text": [
            "Tensor(\"Const_4:0\", shape=(), dtype=float32)\n"
          ],
          "name": "stdout"
        }
      ]
    },
    {
      "metadata": {
        "id": "iGnJTAUxiej8",
        "colab_type": "text"
      },
      "cell_type": "markdown",
      "source": [
        "### Data types  "
      ]
    },
    {
      "metadata": {
        "id": "y9wgeqWFiej9",
        "colab_type": "code",
        "colab": {
          "base_uri": "https://localhost:8080/",
          "height": 51
        },
        "outputId": "a023fb05-6c6a-42c5-cb53-c03bdb572353"
      },
      "cell_type": "code",
      "source": [
        "c = tf.constant(4.0, dtype=tf.float64)\n",
        "print(c)\n",
        "print(c.dtype)"
      ],
      "execution_count": 7,
      "outputs": [
        {
          "output_type": "stream",
          "text": [
            "Tensor(\"Const_5:0\", shape=(), dtype=float64)\n",
            "<dtype: 'float64'>\n"
          ],
          "name": "stdout"
        }
      ]
    },
    {
      "metadata": {
        "id": "qhSgwMpWiekC",
        "colab_type": "code",
        "colab": {
          "base_uri": "https://localhost:8080/",
          "height": 51
        },
        "outputId": "299905a9-cadc-47d8-ea42-b76a737313d8"
      },
      "cell_type": "code",
      "source": [
        "x = tf.constant([1,2,3],name='x',dtype=tf.float32) \n",
        "print(x.dtype)\n",
        "x = tf.cast(x,tf.int64)\n",
        "print(x.dtype)"
      ],
      "execution_count": 8,
      "outputs": [
        {
          "output_type": "stream",
          "text": [
            "<dtype: 'float32'>\n",
            "<dtype: 'int64'>\n"
          ],
          "name": "stdout"
        }
      ]
    },
    {
      "metadata": {
        "id": "SPM-4Lr6iekG",
        "colab_type": "text"
      },
      "cell_type": "markdown",
      "source": [
        "### Tensor arrays and Shapes  "
      ]
    },
    {
      "metadata": {
        "id": "baDD6EUXiekK",
        "colab_type": "code",
        "colab": {
          "base_uri": "https://localhost:8080/",
          "height": 51
        },
        "outputId": "1008b241-a2e6-44db-9fe5-def3ce7518cf"
      },
      "cell_type": "code",
      "source": [
        "import numpy as np \n",
        "\n",
        "c = tf.constant([[1,2,3],\n",
        "                 [4,5,6]]) \n",
        "print(\"Python List input: {}\".format(c.get_shape()))\n",
        "\n",
        "c = tf.constant(np.array([\n",
        "                 [[1,2,3], \n",
        "                  [4,5,6]], \n",
        "\n",
        "                 [[1,1,1], \n",
        "                  [2,2,2]]\n",
        "                 ])) \n",
        "\n",
        "print(\"3d Numpy array input: {}\".format(c.get_shape()))"
      ],
      "execution_count": 9,
      "outputs": [
        {
          "output_type": "stream",
          "text": [
            "Python List input: (2, 3)\n",
            "3d Numpy array input: (2, 2, 3)\n"
          ],
          "name": "stdout"
        }
      ]
    },
    {
      "metadata": {
        "id": "bTdTPkmDiekN",
        "colab_type": "code",
        "colab": {
          "base_uri": "https://localhost:8080/",
          "height": 368
        },
        "outputId": "c94e7144-85e2-4c47-fa04-3f6c141ab543"
      },
      "cell_type": "code",
      "source": [
        "import matplotlib.pyplot as plt \n",
        "% matplotlib inline\n",
        "\n",
        "sess = tf.InteractiveSession()\n",
        "\n",
        "# === Noramal and Truncated normal distributions ===\n",
        "mean = 0\n",
        "std = 1\n",
        "x_normal = tf.random_normal((1,50000),mean,std).eval()\n",
        "x_truncated = tf.truncated_normal((1,50000),mean,std).eval()\n",
        "\n",
        "# === Uniform distribution\n",
        "minval = -2 \n",
        "maxval = 2\n",
        "x_uniform = tf.random_uniform((1,50000),minval,maxval).eval()\n",
        "\n",
        "sess.close()\n",
        "\n",
        "\n",
        "def simpleaxis(ax):\n",
        "    ax.spines['top'].set_visible(False)\n",
        "    ax.spines['right'].set_visible(False)\n",
        "    ax.get_xaxis().tick_bottom()\n",
        "    ax.get_yaxis().tick_left()\n",
        "#     ax.set_ylim([-1.1,1.1])\n",
        "    ax.tick_params(axis='both', which='major', labelsize=15)\n",
        "    \n",
        "def get_axis_limits(ax, scale=.8):\n",
        "    return ax.get_xlim()[1]*scale, ax.get_ylim()[1]*scale\n",
        "\n",
        "f,axarr = plt.subplots(1,3,figsize=[15,4],sharey=True)\n",
        "titles = ['Normal','Truncated Normal','Uniform']\n",
        "\n",
        "print(x_normal.shape)\n",
        "for i,x in enumerate([x_normal,x_truncated,x_uniform]):\n",
        "    ax = axarr[i]\n",
        "    ax.hist(x[0],bins=100,color='b',alpha=0.4)\n",
        "    ax.set_title(titles[i],fontsize=20)\n",
        "    ax.set_xlabel('Values',fontsize=20)\n",
        "    ax.set_xlim([-5,5])\n",
        "    ax.set_ylim([0,1800])\n",
        "    \n",
        "    simpleaxis(ax)\n",
        "    \n",
        "    \n",
        "axarr[0].set_ylabel('Frequency',fontsize=20)\n",
        "plt.suptitle('Initialized values',fontsize=30, y=1.15)\n",
        "\n",
        "\n",
        "for ax,letter in zip(axarr,['A','B','C']):\n",
        "    simpleaxis(ax)\n",
        "    ax.annotate(letter, xy=get_axis_limits(ax),fontsize=35)\n",
        "\n",
        "plt.tight_layout()\n",
        "\n",
        "plt.savefig('histograms.png', bbox_inches='tight', format='png', dpi=200, pad_inches=0,transparent=True)\n",
        "\n",
        "plt.show()"
      ],
      "execution_count": 10,
      "outputs": [
        {
          "output_type": "stream",
          "text": [
            "(1, 50000)\n"
          ],
          "name": "stdout"
        },
        {
          "output_type": "display_data",
          "data": {
            "image/png": "[encoded data removed]",
            "text/plain": [
              "<matplotlib.figure.Figure at 0x7f604853cdd0>"
            ]
          },
          "metadata": {
            "tags": []
          }
        }
      ]
    },
    {
      "metadata": {
        "id": "ct5RlJHPiekQ",
        "colab_type": "code",
        "colab": {
          "base_uri": "https://localhost:8080/",
          "height": 68
        },
        "outputId": "4c1bccd1-133c-46dd-e23c-7d36a367ca9c"
      },
      "cell_type": "code",
      "source": [
        "sess = tf.InteractiveSession()\n",
        "c = tf.linspace(0.0, 4.0, 5) \n",
        "print(\"The content of 'c':\\n {}\\n\".format(c.eval()))\n",
        "sess.close()"
      ],
      "execution_count": 11,
      "outputs": [
        {
          "output_type": "stream",
          "text": [
            "The content of 'c':\n",
            " [0. 1. 2. 3. 4.]\n",
            "\n"
          ],
          "name": "stdout"
        }
      ]
    },
    {
      "metadata": {
        "id": "SQNjP6lPiekT",
        "colab_type": "text"
      },
      "cell_type": "markdown",
      "source": [
        "### Matrix multiplication"
      ]
    },
    {
      "metadata": {
        "id": "w3V4KtmgiekU",
        "colab_type": "code",
        "colab": {
          "base_uri": "https://localhost:8080/",
          "height": 119
        },
        "outputId": "9b9cd3be-8849-4785-9b47-e7a508579d21"
      },
      "cell_type": "code",
      "source": [
        "A = tf.constant([ [1,2,3],\n",
        "                  [4,5,6] ])\n",
        "print(a.get_shape())\n",
        "\n",
        "x = tf.constant([1,0,1])\n",
        "print(x.get_shape())\n",
        "\n",
        "x = tf.expand_dims(x,1)\n",
        "print(x.get_shape())\n",
        "\n",
        "b = tf.matmul(A,x)\n",
        "\n",
        "sess = tf.InteractiveSession()\n",
        "print('matmul result:\\n {}'.format(b.eval()))\n",
        "sess.close()"
      ],
      "execution_count": 12,
      "outputs": [
        {
          "output_type": "stream",
          "text": [
            "()\n",
            "(3,)\n",
            "(3, 1)\n",
            "matmul result:\n",
            " [[ 4]\n",
            " [10]]\n"
          ],
          "name": "stdout"
        }
      ]
    },
    {
      "metadata": {
        "id": "otXytauhiekX",
        "colab_type": "text"
      },
      "cell_type": "markdown",
      "source": [
        "### Names  "
      ]
    },
    {
      "metadata": {
        "id": "koaa6W5liekY",
        "colab_type": "code",
        "colab": {
          "base_uri": "https://localhost:8080/",
          "height": 51
        },
        "outputId": "ddaee591-1204-4946-9ea3-b8770984bc46"
      },
      "cell_type": "code",
      "source": [
        "with tf.Graph().as_default():\n",
        "    c1 = tf.constant(4,dtype=tf.float64,name='c') \n",
        "    c2 = tf.constant(4,dtype=tf.int32,name='c') \n",
        "print(c1.name)\n",
        "print(c2.name)"
      ],
      "execution_count": 13,
      "outputs": [
        {
          "output_type": "stream",
          "text": [
            "c:0\n",
            "c_1:0\n"
          ],
          "name": "stdout"
        }
      ]
    },
    {
      "metadata": {
        "id": "y0Tmo9WFiekc",
        "colab_type": "text"
      },
      "cell_type": "markdown",
      "source": [
        "### Name scopes"
      ]
    },
    {
      "metadata": {
        "id": "k6FbmL3Eiekc",
        "colab_type": "code",
        "colab": {
          "base_uri": "https://localhost:8080/",
          "height": 68
        },
        "outputId": "5a4a891e-fdee-4ab6-a49f-d5e76ee1921f"
      },
      "cell_type": "code",
      "source": [
        "with tf.Graph().as_default():\n",
        "    c1 = tf.constant(4,dtype=tf.float64,name='c') \n",
        "    with tf.name_scope(\"prefix_name\"):\n",
        "        c2 = tf.constant(4,dtype=tf.int32,name='c') \n",
        "        c3 = tf.constant(4,dtype=tf.float64,name='c')\n",
        "\n",
        "print(c1.name)\n",
        "print(c2.name)\n",
        "print(c3.name)"
      ],
      "execution_count": 14,
      "outputs": [
        {
          "output_type": "stream",
          "text": [
            "c:0\n",
            "prefix_name/c:0\n",
            "prefix_name/c_1:0\n"
          ],
          "name": "stdout"
        }
      ]
    },
    {
      "metadata": {
        "id": "68wZieViiekf",
        "colab_type": "text"
      },
      "cell_type": "markdown",
      "source": [
        "### Variables\n"
      ]
    },
    {
      "metadata": {
        "id": "wqiAUdNWiekf",
        "colab_type": "code",
        "colab": {
          "base_uri": "https://localhost:8080/",
          "height": 102
        },
        "outputId": "da9498e7-90b4-467f-a904-6980f6f50b37"
      },
      "cell_type": "code",
      "source": [
        "init_val = tf.random_normal((1,5),0,1)\n",
        "var = tf.Variable(init_val, name='var') \n",
        "print(\"pre run: \\n{}\".format(var))\n",
        "\n",
        "init = tf.global_variables_initializer()\n",
        "with tf.Session() as sess:\n",
        "    sess.run(init)\n",
        "    post_var = sess.run(var)\n",
        "\n",
        "print(\"\\npost run: \\n{}\".format(post_var))"
      ],
      "execution_count": 15,
      "outputs": [
        {
          "output_type": "stream",
          "text": [
            "pre run: \n",
            "<tf.Variable 'var:0' shape=(1, 5) dtype=float32_ref>\n",
            "\n",
            "post run: \n",
            "[[ 0.20056163  0.72276497  0.3993801  -0.69765425  0.37856016]]\n"
          ],
          "name": "stdout"
        }
      ]
    },
    {
      "metadata": {
        "id": "PgQDqF7iiekh",
        "colab_type": "text"
      },
      "cell_type": "markdown",
      "source": [
        "### New variables are created each time"
      ]
    },
    {
      "metadata": {
        "id": "FNVd7E62ieki",
        "colab_type": "code",
        "colab": {
          "base_uri": "https://localhost:8080/",
          "height": 102
        },
        "outputId": "adce2b1d-dd6a-4984-dad6-ae24aa7b653f"
      },
      "cell_type": "code",
      "source": [
        "init_val = tf.random_normal((1,5),0,1)\n",
        "var = tf.Variable(init_val, name='var') \n",
        "print(\"pre run: \\n{}\".format(var))\n",
        "\n",
        "init = tf.global_variables_initializer()\n",
        "with tf.Session() as sess:\n",
        "    sess.run(init)\n",
        "    post_var = sess.run(var)\n",
        "\n",
        "print(\"\\npost run: \\n{}\".format(post_var))"
      ],
      "execution_count": 16,
      "outputs": [
        {
          "output_type": "stream",
          "text": [
            "pre run: \n",
            "<tf.Variable 'var_1:0' shape=(1, 5) dtype=float32_ref>\n",
            "\n",
            "post run: \n",
            "[[-0.55580425  0.10166979  1.2961776   0.6176159   2.3261256 ]]\n"
          ],
          "name": "stdout"
        }
      ]
    },
    {
      "metadata": {
        "id": "wQtjrEM_iekk",
        "colab_type": "text"
      },
      "cell_type": "markdown",
      "source": [
        "### Placeholders"
      ]
    },
    {
      "metadata": {
        "id": "R2fI8V2Eiekl",
        "colab_type": "code",
        "colab": {
          "base_uri": "https://localhost:8080/",
          "height": 34
        },
        "outputId": "8f53a9f0-f6d5-4266-af3b-83a3f36fcfd5"
      },
      "cell_type": "code",
      "source": [
        "x_data = np.random.randn(5,10) \n",
        "w_data = np.random.randn(10,1) \n",
        "\n",
        "with tf.Graph().as_default():\n",
        "    x = tf.placeholder(tf.float32,shape=(5,10))\n",
        "    w = tf.placeholder(tf.float32,shape=(10,1))\n",
        "    b = tf.fill((5,1),-1.) \n",
        "    xw = tf.matmul(x,w)\n",
        "\n",
        "    xwb = xw + b\n",
        "    s = tf.reduce_max(xwb)\n",
        "    with tf.Session() as sess:\n",
        "        outs = sess.run(s,feed_dict={x: x_data,w: w_data}) \n",
        "\n",
        "print(\"outs = {}\".format(outs))"
      ],
      "execution_count": 17,
      "outputs": [
        {
          "output_type": "stream",
          "text": [
            "outs = 6.61462831497\n"
          ],
          "name": "stdout"
        }
      ]
    },
    {
      "metadata": {
        "id": "RHmZPQTsiekn",
        "colab_type": "text"
      },
      "cell_type": "markdown",
      "source": [
        "### Example 1: Linear Regression"
      ]
    },
    {
      "metadata": {
        "id": "YwXVgPjOiekn",
        "colab_type": "code",
        "colab": {}
      },
      "cell_type": "code",
      "source": [
        "# === Create data and simulate results =====\n",
        "x_data = np.random.randn(2000,3)\n",
        "w_real = [0.3,0.5,0.1]\n",
        "b_real = -0.2\n",
        "\n",
        "noise = np.random.randn(1,2000)*0.1\n",
        "y_data = np.matmul(w_real,x_data.T) + b_real + noise"
      ],
      "execution_count": 0,
      "outputs": []
    },
    {
      "metadata": {
        "id": "LqgESoOtiekq",
        "colab_type": "code",
        "colab": {
          "base_uri": "https://localhost:8080/",
          "height": 68
        },
        "outputId": "24332ecd-c9f1-4f8a-e29e-f41ba950da13"
      },
      "cell_type": "code",
      "source": [
        "NUM_STEPS = 10\n",
        "\n",
        "g = tf.Graph()\n",
        "wb_ = []\n",
        "with g.as_default():\n",
        "    x = tf.placeholder(tf.float32,shape=[None,3])\n",
        "    y_true = tf.placeholder(tf.float32,shape=None)\n",
        "    \n",
        "    with tf.name_scope('inference') as scope:\n",
        "        w = tf.Variable([[0,0,0]],dtype=tf.float32,name='weights')\n",
        "        b = tf.Variable(0,dtype=tf.float32,name='bias')\n",
        "        y_pred = tf.matmul(w,tf.transpose(x)) + b\n",
        "\n",
        "    with tf.name_scope('loss') as scope:\n",
        "        loss = tf.reduce_mean(tf.square(y_true-y_pred))\n",
        "  \n",
        "    with tf.name_scope('train') as scope:\n",
        "        learning_rate = 0.5\n",
        "        optimizer = tf.train.GradientDescentOptimizer(learning_rate)\n",
        "        train = optimizer.minimize(loss)\n",
        "\n",
        "    # Before starting, initialize the variables.  We will 'run' this first.\n",
        "    init = tf.global_variables_initializer()\n",
        "    with tf.Session() as sess:\n",
        "        sess.run(init)      \n",
        "        for step in range(NUM_STEPS):\n",
        "            sess.run(train,{x: x_data, y_true: y_data})\n",
        "            if (step % 5 == 0):\n",
        "                print(step, sess.run([w,b])) \n",
        "                wb_.append(sess.run([w,b]))\n",
        "                \n",
        "        print(10, sess.run([w,b]))"
      ],
      "execution_count": 19,
      "outputs": [
        {
          "output_type": "stream",
          "text": [
            "(0, [array([[0.30281764, 0.49236843, 0.10818577]], dtype=float32), -0.18076941])\n",
            "(5, [array([[0.29980376, 0.5028869 , 0.10202879]], dtype=float32), -0.20028083])\n",
            "(10, [array([[0.2998038 , 0.5028869 , 0.10202877]], dtype=float32), -0.20028082])\n"
          ],
          "name": "stdout"
        }
      ]
    },
    {
      "metadata": {
        "id": "l0mgO3-4ieks",
        "colab_type": "text"
      },
      "cell_type": "markdown",
      "source": [
        "### Example 2: Logistic Regression\n"
      ]
    },
    {
      "metadata": {
        "id": "8nFACoSniekt",
        "colab_type": "code",
        "colab": {}
      },
      "cell_type": "code",
      "source": [
        "N = 20000\n",
        "\n",
        "def sigmoid(x):\n",
        "    return 1 / (1 + np.exp(-x))\n",
        "# === Create data and simulate results =====\n",
        "x_data = np.random.randn(N,3)\n",
        "w_real = [0.3,0.5,0.1]\n",
        "b_real = -0.2\n",
        "wxb = np.matmul(w_real,x_data.T) + b_real\n",
        "\n",
        "y_data_pre_noise = sigmoid(wxb)\n",
        "y_data = np.random.binomial(1,y_data_pre_noise)"
      ],
      "execution_count": 0,
      "outputs": []
    },
    {
      "metadata": {
        "id": "_JgkhaMfiekv",
        "colab_type": "code",
        "colab": {
          "base_uri": "https://localhost:8080/",
          "height": 204
        },
        "outputId": "21187bf9-668c-4a07-9520-19a9bc9e4c7a"
      },
      "cell_type": "code",
      "source": [
        "NUM_STEPS = 50\n",
        "\n",
        "\n",
        "g = tf.Graph()\n",
        "wb_ = []\n",
        "with g.as_default():\n",
        "    x = tf.placeholder(tf.float32,shape=[None,3])\n",
        "    y_true = tf.placeholder(tf.float32,shape=None)\n",
        "    \n",
        "    with tf.name_scope('inference') as scope:\n",
        "        w = tf.Variable([[0,0,0]],dtype=tf.float32,name='weights')\n",
        "        b = tf.Variable(0,dtype=tf.float32,name='bias')\n",
        "        y_pred = tf.matmul(w,tf.transpose(x)) + b\n",
        "\n",
        "    with tf.name_scope('loss') as scope:\n",
        "        loss = tf.nn.sigmoid_cross_entropy_with_logits(labels=y_true,logits=y_pred) \n",
        "        loss = tf.reduce_mean(loss)\n",
        "  \n",
        "    with tf.name_scope('train') as scope:\n",
        "        learning_rate = 0.5\n",
        "        optimizer = tf.train.GradientDescentOptimizer(learning_rate)\n",
        "        train = optimizer.minimize(loss)\n",
        "\n",
        "\n",
        "\n",
        "    # Before starting, initialize the variables.  We will 'run' this first.\n",
        "    init = tf.global_variables_initializer()\n",
        "    with tf.Session() as sess:\n",
        "        sess.run(init)      \n",
        "        for step in range(NUM_STEPS):\n",
        "            sess.run(train,{x: x_data, y_true: y_data})\n",
        "            if (step % 5 == 0):\n",
        "                print(step, sess.run([w,b]))\n",
        "                wb_.append(sess.run([w,b]))\n",
        "\n",
        "        print(50, sess.run([w,b]))"
      ],
      "execution_count": 21,
      "outputs": [
        {
          "output_type": "stream",
          "text": [
            "(0, [array([[0.03623682, 0.05801775, 0.01022197]], dtype=float32), -0.025874965])\n",
            "(5, [array([[0.16037613, 0.25620067, 0.04576094]], dtype=float32), -0.114463165])\n",
            "(10, [array([[0.22679046, 0.36178544, 0.06526246]], dtype=float32), -0.16170898])\n",
            "(15, [array([[0.26397228, 0.42073146, 0.07642789]], dtype=float32), -0.18801324])\n",
            "(20, [array([[0.2854205 , 0.45466805, 0.08299558]], dtype=float32), -0.20308599])\n",
            "(25, [array([[0.298016  , 0.47456855, 0.0869185 ]], dtype=float32), -0.21187627])\n",
            "(30, [array([[0.30549127, 0.4863657 , 0.08928146]], dtype=float32), -0.21705791])\n",
            "(35, [array([[0.30995542, 0.49340436, 0.09071109]], dtype=float32), -0.22013265])\n",
            "(40, [array([[0.31263128, 0.49762005, 0.09157789]], dtype=float32), -0.22196479])\n",
            "(45, [array([[0.31423873, 0.50015074, 0.09210391]], dtype=float32), -0.22305942])\n",
            "(50, [array([[0.3150494 , 0.50142634, 0.09237139]], dtype=float32), -0.22360897])\n"
          ],
          "name": "stdout"
        }
      ]
    }
  ]
}